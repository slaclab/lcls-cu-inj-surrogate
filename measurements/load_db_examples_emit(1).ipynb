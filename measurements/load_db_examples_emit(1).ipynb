{
 "cells": [
  {
   "cell_type": "markdown",
   "metadata": {},
   "source": [
    "# How to open multi-solenoid scan database"
   ]
  },
  {
   "cell_type": "code",
   "execution_count": 23,
   "metadata": {},
   "outputs": [],
   "source": [
    "import h5py, glob\n",
    "import numpy as np\n",
    "import matplotlib.pyplot as plt\n",
    "import matplotlib as mpl\n",
    "mpl.rcParams['figure.dpi'] = 75\n",
    "import sys"
   ]
  },
  {
   "cell_type": "code",
   "execution_count": 24,
   "metadata": {},
   "outputs": [],
   "source": [
    "import os"
   ]
  },
  {
   "cell_type": "code",
   "execution_count": 25,
   "metadata": {},
   "outputs": [
    {
     "data": {
      "text/plain": [
       "False"
      ]
     },
     "execution_count": 25,
     "metadata": {},
     "output_type": "execute_result"
    }
   ],
   "source": [
    "os.path.exists('/sdf/home/e/edelen/.pythonrc')"
   ]
  },
  {
   "cell_type": "code",
   "execution_count": 26,
   "metadata": {},
   "outputs": [
    {
     "data": {
      "text/plain": [
       "True"
      ]
     },
     "execution_count": 26,
     "metadata": {},
     "output_type": "execute_result"
    }
   ],
   "source": [
    "os.path.exists('2020_summer_cu_inj_solscan_data.h5')"
   ]
  },
  {
   "cell_type": "code",
   "execution_count": 27,
   "metadata": {},
   "outputs": [
    {
     "name": "stdout",
     "output_type": "stream",
     "text": [
      "/gpfs/slac/staas/fs1/g/accelerator_modeling/edelen/LCLS_CU_full/Measurements/lcls-cu-inj-surrogate/measurements\n"
     ]
    }
   ],
   "source": [
    "!pwd"
   ]
  },
  {
   "cell_type": "code",
   "execution_count": 28,
   "metadata": {},
   "outputs": [],
   "source": [
    " h5 = h5py.File('2020_summer_cu_inj_solscan_data.h5', 'r')"
   ]
  },
  {
   "cell_type": "code",
   "execution_count": null,
   "metadata": {},
   "outputs": [],
   "source": []
  },
  {
   "cell_type": "code",
   "execution_count": null,
   "metadata": {},
   "outputs": [],
   "source": []
  },
  {
   "cell_type": "code",
   "execution_count": null,
   "metadata": {},
   "outputs": [],
   "source": []
  },
  {
   "cell_type": "code",
   "execution_count": null,
   "metadata": {},
   "outputs": [],
   "source": []
  },
  {
   "cell_type": "code",
   "execution_count": 67,
   "metadata": {},
   "outputs": [
    {
     "data": {
      "text/plain": [
       "['solenoid_scan_OTR1_2020-06-21T09:48:47',\n",
       " 'solenoid_scan_OTR2_2020-06-21T10:00:53',\n",
       " 'solenoid_scan_OTR2_2020-07-09T00:57:46',\n",
       " 'solenoid_scan_OTR2_2020-07-09T01:07:21',\n",
       " 'solenoid_scan_OTR2_2020-07-09T02:35:55',\n",
       " 'solenoid_scan_OTR2_2020-07-09T02:44:37',\n",
       " 'solenoid_scan_OTR2_2020-07-09T04:45:16',\n",
       " 'solenoid_scan_OTR3_2020-06-21T10:13:08',\n",
       " 'solenoid_scan_YAG02_2020-06-21T09:17:33',\n",
       " 'solenoid_scan_YAG02_2020-06-21T10:28:05',\n",
       " 'solenoid_scan_YAG02_2020-06-21T14:33:32',\n",
       " 'solenoid_scan_YAG02_2020-07-09T01:15:53',\n",
       " 'solenoid_scan_YAG02_2020-07-09T01:32:37',\n",
       " 'solenoid_scan_YAG02_2020-07-09T03:05:02',\n",
       " 'solenoid_scan_YAG02_2020-07-09T05:01:14',\n",
       " 'solenoid_scan_YAG03_2020-06-21T09:27:37',\n",
       " 'solenoid_scan_YAG03_2020-06-21T09:38:46']"
      ]
     },
     "execution_count": 67,
     "metadata": {},
     "output_type": "execute_result"
    }
   ],
   "source": [
    "# open file\n",
    "#onescan   = 'cu_inj_yag02_solscan.h5'\n",
    "manyscans = '2020_summer_cu_inj_solscan_data.h5'\n",
    "f         = h5py.File(manyscans, 'r') \n",
    "# YAG and \n",
    "list(f.keys())"
   ]
  },
  {
   "cell_type": "code",
   "execution_count": 68,
   "metadata": {},
   "outputs": [],
   "source": [
    "import pandas as pd"
   ]
  },
  {
   "cell_type": "code",
   "execution_count": 69,
   "metadata": {},
   "outputs": [
    {
     "data": {
      "text/plain": [
       "<KeysViewHDF5 ['beam_data', 'pvdata']>"
      ]
     },
     "execution_count": 69,
     "metadata": {},
     "output_type": "execute_result"
    }
   ],
   "source": [
    "f['solenoid_scan_OTR1_2020-06-21T09:48:47'].keys()"
   ]
  },
  {
   "cell_type": "code",
   "execution_count": 70,
   "metadata": {},
   "outputs": [
    {
     "data": {
      "text/plain": [
       "['accelerator',\n",
       " 'beam_names',\n",
       " 'ctrl_pv',\n",
       " 'ctrl_pv_unit',\n",
       " 'file',\n",
       " 'isotime',\n",
       " 'matlab_timestamp',\n",
       " 'screen_name',\n",
       " 'screen_pv']"
      ]
     },
     "execution_count": 70,
     "metadata": {},
     "output_type": "execute_result"
    }
   ],
   "source": [
    "list(f['solenoid_scan_OTR1_2020-06-21T09:48:47'].attrs)"
   ]
  },
  {
   "cell_type": "code",
   "execution_count": 71,
   "metadata": {},
   "outputs": [
    {
     "data": {
      "text/plain": [
       "['profx',\n",
       " 'xStat',\n",
       " 'xStatStd',\n",
       " 'profy',\n",
       " 'yStat',\n",
       " 'yStatStd',\n",
       " 'profu',\n",
       " 'uStat',\n",
       " 'uStatStd',\n",
       " 'method',\n",
       " 'stats',\n",
       " 'statsStd']"
      ]
     },
     "execution_count": 71,
     "metadata": {},
     "output_type": "execute_result"
    }
   ],
   "source": [
    "list(f['solenoid_scan_OTR1_2020-06-21T09:48:47'].attrs['beam_names'])"
   ]
  },
  {
   "cell_type": "code",
   "execution_count": 72,
   "metadata": {},
   "outputs": [
    {
     "data": {
      "text/plain": [
       "['[',\n",
       " \"'\",\n",
       " 'O',\n",
       " 'T',\n",
       " 'R',\n",
       " 'S',\n",
       " ':',\n",
       " 'I',\n",
       " 'N',\n",
       " '2',\n",
       " '0',\n",
       " ':',\n",
       " '5',\n",
       " '4',\n",
       " '1',\n",
       " ':',\n",
       " 'X',\n",
       " \"'\",\n",
       " ']']"
      ]
     },
     "execution_count": 72,
     "metadata": {},
     "output_type": "execute_result"
    }
   ],
   "source": [
    "list(f['solenoid_scan_OTR1_2020-06-21T09:48:47'].attrs['screen_pv'])"
   ]
  },
  {
   "cell_type": "code",
   "execution_count": 53,
   "metadata": {},
   "outputs": [
    {
     "data": {
      "text/plain": [
       "'SOLN:IN20:121:BCTRL'"
      ]
     },
     "execution_count": 53,
     "metadata": {},
     "output_type": "execute_result"
    }
   ],
   "source": [
    "f['solenoid_scan_OTR1_2020-06-21T09:48:47'].attrs['ctrl_pv']"
   ]
  },
  {
   "cell_type": "code",
   "execution_count": 54,
   "metadata": {},
   "outputs": [
    {
     "data": {
      "text/plain": [
       "'kG-m'"
      ]
     },
     "execution_count": 54,
     "metadata": {},
     "output_type": "execute_result"
    }
   ],
   "source": [
    "f['solenoid_scan_OTR1_2020-06-21T09:48:47'].attrs['ctrl_pv_unit']"
   ]
  },
  {
   "cell_type": "code",
   "execution_count": 57,
   "metadata": {},
   "outputs": [
    {
     "data": {
      "text/plain": [
       "['step0',\n",
       " 'step1',\n",
       " 'step10',\n",
       " 'step11',\n",
       " 'step12',\n",
       " 'step13',\n",
       " 'step14',\n",
       " 'step2',\n",
       " 'step3',\n",
       " 'step4',\n",
       " 'step5',\n",
       " 'step6',\n",
       " 'step7',\n",
       " 'step8',\n",
       " 'step9']"
      ]
     },
     "execution_count": 57,
     "metadata": {},
     "output_type": "execute_result"
    }
   ],
   "source": [
    "list(f['solenoid_scan_OTR1_2020-06-21T09:48:47']['beam_data'].keys())"
   ]
  },
  {
   "cell_type": "code",
   "execution_count": 58,
   "metadata": {},
   "outputs": [
    {
     "data": {
      "text/plain": [
       "['Asymmetric',\n",
       " 'Gaussian',\n",
       " 'RMS',\n",
       " 'RMS cut area',\n",
       " 'RMS cut peak',\n",
       " 'RMS floor',\n",
       " 'Super',\n",
       " 'raw_data']"
      ]
     },
     "execution_count": 58,
     "metadata": {},
     "output_type": "execute_result"
    }
   ],
   "source": [
    "list(f['solenoid_scan_OTR1_2020-06-21T09:48:47']['beam_data']['step0']['sample0'].keys())"
   ]
  },
  {
   "cell_type": "code",
   "execution_count": null,
   "metadata": {},
   "outputs": [],
   "source": []
  },
  {
   "cell_type": "code",
   "execution_count": 30,
   "metadata": {},
   "outputs": [
    {
     "name": "stdout",
     "output_type": "stream",
     "text": [
      "um\n"
     ]
    },
    {
     "data": {
      "image/png": "[encoded data removed]",
      "text/plain": [
       "<Figure size 450x300 with 1 Axes>"
      ]
     },
     "metadata": {
      "needs_background": "light"
     },
     "output_type": "display_data"
    }
   ],
   "source": [
    "raw_data = f['solenoid_scan_OTR1_2020-06-21T09:48:47']['beam_data']['step0']['sample0']['raw_data']\n",
    "xaxis = raw_data['XCOORD']\n",
    "xprof = raw_data['XPROF']\n",
    "\n",
    "# Unit for axis in um and intensity is arb./based on pixels\n",
    "print(raw_data.attrs['unit'])\n",
    "plt.plot(xaxis, xprof)\n",
    "plt.show()"
   ]
  },
  {
   "cell_type": "code",
   "execution_count": 59,
   "metadata": {},
   "outputs": [
    {
     "name": "stdout",
     "output_type": "stream",
     "text": [
      "solenoid_scan_OTR1_2020-06-21T09:48:47\n",
      "steps 15\n",
      "solenoid_scan_OTR2_2020-06-21T10:00:53\n",
      "steps 15\n",
      "solenoid_scan_OTR2_2020-07-09T00:57:46\n",
      "steps 7\n",
      "solenoid_scan_OTR2_2020-07-09T01:07:21\n",
      "steps 5\n",
      "solenoid_scan_OTR2_2020-07-09T02:35:55\n",
      "steps 7\n",
      "solenoid_scan_OTR2_2020-07-09T02:44:37\n",
      "steps 7\n",
      "solenoid_scan_OTR2_2020-07-09T04:45:16\n",
      "steps 7\n",
      "solenoid_scan_OTR3_2020-06-21T10:13:08\n",
      "steps 15\n",
      "solenoid_scan_YAG02_2020-06-21T09:17:33\n",
      "steps 15\n",
      "solenoid_scan_YAG02_2020-06-21T10:28:05\n",
      "steps 15\n",
      "solenoid_scan_YAG02_2020-06-21T14:33:32\n",
      "steps 7\n",
      "solenoid_scan_YAG02_2020-07-09T01:15:53\n",
      "steps 1\n",
      "solenoid_scan_YAG02_2020-07-09T01:32:37\n",
      "steps 9\n",
      "solenoid_scan_YAG02_2020-07-09T03:05:02\n",
      "steps 9\n",
      "solenoid_scan_YAG02_2020-07-09T05:01:14\n",
      "steps 9\n",
      "solenoid_scan_YAG03_2020-06-21T09:27:37\n",
      "steps 15\n",
      "solenoid_scan_YAG03_2020-06-21T09:38:46\n",
      "steps 15\n"
     ]
    }
   ],
   "source": [
    "xdata = []\n",
    "ydata = []\n",
    "\n",
    "# Top group name\n",
    "for key in f.keys(): \n",
    "    beam_key   = key+'/beam_data'\n",
    "    beam_group = f[beam_key]\n",
    "    nsteps     = len(beam_group.keys())\n",
    "    if nsteps > 0:\n",
    "        print(key)\n",
    "        print('steps',nsteps)\n",
    "        nsamples = len(beam_group['step0'])\n",
    "        #print('samples',samples)\n",
    "        for step in beam_group:\n",
    "            #print(step)\n",
    "            for sample in beam_group[step]:\n",
    "                try:\n",
    "                    xdata.append(beam_group[step][sample]['Gaussian']['stats_XRMS'][()])\n",
    "                    ydata.append(beam_group[step][sample]['Gaussian']['stats_YRMS'][()])\n",
    "                except:\n",
    "                    pass"
   ]
  },
  {
   "cell_type": "code",
   "execution_count": 60,
   "metadata": {},
   "outputs": [
    {
     "data": {
      "image/png": "[encoded data removed]",
      "text/plain": [
       "<Figure size 450x300 with 1 Axes>"
      ]
     },
     "metadata": {
      "needs_background": "light"
     },
     "output_type": "display_data"
    }
   ],
   "source": [
    "x = np.array(xdata)*10**-3\n",
    "y = np.array(ydata)*10**-3\n",
    "#print(len(x))\n",
    "plt.plot(x,y, '.', c = [0.3,0.5,0.5], alpha=0.5)\n",
    "plt.title('Beam sizes from all solenoid scans')\n",
    "plt.xlabel('XRMS beam size (mm)', size=12)\n",
    "plt.ylabel('YRMS beam size (mm)', size=12)\n",
    "#plt.xlim(0,3)\n",
    "#plt.ylim(0,3)\n",
    "plt.yscale(\"log\")\n",
    "plt.xscale(\"log\")\n",
    "plt.savefig('all_beamsizes.pdf', bbox_inches='tight', dpi=600)\n",
    "plt.show()"
   ]
  },
  {
   "cell_type": "markdown",
   "metadata": {},
   "source": [
    "# How to open Emittance scan files"
   ]
  },
  {
   "cell_type": "code",
   "execution_count": 74,
   "metadata": {},
   "outputs": [
    {
     "data": {
      "text/plain": [
       "['emit_scan_OTR2_2020-06-11T00:54:57',\n",
       " 'emit_scan_OTR2_2020-06-11T01:16:44',\n",
       " 'emit_scan_OTR2_2020-06-11T01:21:42',\n",
       " 'emit_scan_OTR2_2020-06-11T04:31:57',\n",
       " 'emit_scan_OTR2_2020-06-11T04:44:55',\n",
       " 'emit_scan_OTR2_2020-06-11T04:52:05',\n",
       " 'emit_scan_OTR2_2020-06-11T05:04:40',\n",
       " 'emit_scan_OTR2_2020-06-11T05:30:28',\n",
       " 'emit_scan_OTR2_2020-06-11T05:36:38',\n",
       " 'emit_scan_OTR2_2020-06-11T20:33:44',\n",
       " 'emit_scan_OTR2_2020-06-11T20:37:55',\n",
       " 'emit_scan_OTR2_2020-06-11T20:39:49',\n",
       " 'emit_scan_OTR2_2020-06-12T20:48:44',\n",
       " 'emit_scan_OTR2_2020-06-12T20:54:46',\n",
       " 'emit_scan_OTR2_2020-06-12T22:54:41',\n",
       " 'emit_scan_OTR2_2020-06-21T08:39:23',\n",
       " 'emit_scan_OTR2_2020-06-21T08:47:29',\n",
       " 'emit_scan_OTR2_2020-06-21T14:46:13',\n",
       " 'emit_scan_OTR2_2020-06-21T14:51:52',\n",
       " 'emit_scan_OTR2_2020-06-21T16:12:38',\n",
       " 'emit_scan_OTR2_2020-06-21T16:51:08',\n",
       " 'emit_scan_OTR2_2020-06-21T16:54:25',\n",
       " 'emit_scan_OTR2_2020-06-21T16:59:44',\n",
       " 'emit_scan_OTR2_2020-06-22T23:03:13',\n",
       " 'emit_scan_OTR2_2020-06-22T23:15:21',\n",
       " 'emit_scan_OTR2_2020-06-22T23:19:06',\n",
       " 'emit_scan_OTR2_2020-06-22T23:23:02',\n",
       " 'emit_scan_OTR2_2020-07-08T01:52:47',\n",
       " 'emit_scan_OTR2_2020-07-08T01:56:48',\n",
       " 'emit_scan_OTR2_2020-07-08T02:06:31',\n",
       " 'emit_scan_OTR2_2020-07-09T04:43:43',\n",
       " 'emit_scan_OTR2_2020-07-19T19:31:08',\n",
       " 'emit_scan_OTR2_2020-07-29T14:14:35',\n",
       " 'emit_scan_OTR2_2020-07-29T14:17:25',\n",
       " 'emit_scan_OTR2_2020-07-29T14:44:21',\n",
       " 'emit_scan_OTR2_2020-07-29T14:47:28',\n",
       " 'emit_scan_OTR2_2020-07-29T14:52:05',\n",
       " 'emit_scan_OTR2_2020-07-30T05:05:34',\n",
       " 'emit_scan_WS02_2020-06-11T02:50:25',\n",
       " 'emit_scan_WS02_2020-06-11T03:16:42',\n",
       " 'emit_scan_WS02_2020-06-11T03:18:51',\n",
       " 'emit_scan_WS02_2020-06-11T03:24:38',\n",
       " 'emit_scan_WS02_2020-06-11T03:31:03',\n",
       " 'emit_scan_WS02_2020-06-11T03:32:35',\n",
       " 'emit_scan_WS02_2020-06-11T03:39:26',\n",
       " 'emit_scan_WS02_2020-06-11T03:43:37',\n",
       " 'emit_scan_WS02_2020-06-11T03:46:26',\n",
       " 'emit_scan_WS02_2020-06-11T04:27:31',\n",
       " 'emit_scan_WS02_2020-06-11T04:29:48',\n",
       " 'emit_scan_WS02_2020-06-11T05:07:25',\n",
       " 'emit_scan_WS02_2020-06-11T05:09:03',\n",
       " 'emit_scan_WS02_2020-06-11T05:13:56',\n",
       " 'emit_scan_WS02_2020-06-11T05:15:42',\n",
       " 'emit_scan_WS02_2020-06-11T05:20:37',\n",
       " 'emit_scan_WS02_2020-06-11T05:22:38',\n",
       " 'emit_scan_WS02_2020-06-11T05:33:13',\n",
       " 'emit_scan_WS02_2020-06-11T05:34:49',\n",
       " 'emit_scan_WS02_2020-06-11T06:24:48',\n",
       " 'emit_scan_WS02_2020-06-11T06:26:34',\n",
       " 'emit_scan_WS02_2020-06-11T07:24:11',\n",
       " 'emit_scan_WS02_2020-06-11T07:25:57',\n",
       " 'emit_scan_WS02_2020-06-11T20:45:23',\n",
       " 'emit_scan_WS02_2020-06-11T20:47:07',\n",
       " 'emit_scan_WS02_2020-06-12T08:10:09',\n",
       " 'emit_scan_WS02_2020-06-12T20:57:17',\n",
       " 'emit_scan_WS02_2020-06-12T20:58:44',\n",
       " 'emit_scan_WS02_2020-06-21T08:41:47',\n",
       " 'emit_scan_WS02_2020-06-21T08:43:54',\n",
       " 'emit_scan_WS02_2020-06-21T08:45:31',\n",
       " 'emit_scan_WS02_2020-06-21T14:55:53',\n",
       " 'emit_scan_WS02_2020-06-21T14:57:48',\n",
       " 'emit_scan_WS02_2020-06-21T15:00:08',\n",
       " 'emit_scan_WS02_2020-07-08T18:17:01',\n",
       " 'emit_scan_WS02_2020-07-08T18:19:10',\n",
       " 'emit_scan_WS02_2020-07-09T05:49:10',\n",
       " 'emit_scan_WS02_2020-07-09T05:52:05',\n",
       " 'emit_scan_WS02_2020-07-09T06:28:00',\n",
       " 'emit_scan_WS02_2020-07-09T06:29:45',\n",
       " 'emit_scan_WS02_2020-07-09T06:44:11',\n",
       " 'emit_scan_WS02_2020-07-09T06:46:10',\n",
       " 'emit_scan_WS02_2020-07-18T10:08:18',\n",
       " 'emit_scan_WS02_2020-07-18T10:10:40',\n",
       " 'emit_scan_WS02_2020-07-19T19:33:04',\n",
       " 'emit_scan_WS02_2020-07-19T20:03:28',\n",
       " 'emit_scan_WS02_2020-07-29T17:52:12',\n",
       " 'emit_scan_WS02_2020-07-29T17:53:47',\n",
       " 'emit_scan_WS12_2020-06-11T14:47:43',\n",
       " 'emit_scan_WS12_2020-06-11T15:52:55',\n",
       " 'emit_scan_WS12_2020-06-11T20:48:59',\n",
       " 'emit_scan_WS12_2020-06-11T20:51:11',\n",
       " 'emit_scan_WS12_2020-06-11T20:59:21',\n",
       " 'emit_scan_WS12_2020-06-11T21:01:03',\n",
       " 'emit_scan_WS12_2020-06-11T21:05:50',\n",
       " 'emit_scan_WS12_2020-06-11T21:07:42',\n",
       " 'emit_scan_WS12_2020-06-11T21:10:19',\n",
       " 'emit_scan_WS12_2020-06-11T21:12:04',\n",
       " 'emit_scan_WS12_2020-06-11T21:14:34',\n",
       " 'emit_scan_WS12_2020-06-11T21:20:12',\n",
       " 'emit_scan_WS12_2020-06-11T21:24:28',\n",
       " 'emit_scan_WS12_2020-06-11T22:06:08',\n",
       " 'emit_scan_WS12_2020-06-11T22:34:28',\n",
       " 'emit_scan_WS12_2020-06-11T22:49:59',\n",
       " 'emit_scan_WS12_2020-06-11T22:53:22',\n",
       " 'emit_scan_WS12_2020-06-11T22:55:50',\n",
       " 'emit_scan_WS12_2020-06-11T23:06:12',\n",
       " 'emit_scan_WS12_2020-06-11T23:07:52',\n",
       " 'emit_scan_WS12_2020-06-11T23:11:44',\n",
       " 'emit_scan_WS12_2020-06-11T23:13:30',\n",
       " 'emit_scan_WS12_2020-06-11T23:18:20',\n",
       " 'emit_scan_WS12_2020-06-11T23:20:03',\n",
       " 'emit_scan_WS12_2020-06-11T23:22:59',\n",
       " 'emit_scan_WS12_2020-06-11T23:25:06',\n",
       " 'emit_scan_WS12_2020-06-12T00:01:35',\n",
       " 'emit_scan_WS12_2020-06-12T00:03:36',\n",
       " 'emit_scan_WS12_2020-06-12T00:54:50',\n",
       " 'emit_scan_WS12_2020-06-12T00:58:50',\n",
       " 'emit_scan_WS12_2020-06-12T21:00:27',\n",
       " 'emit_scan_WS12_2020-06-12T21:02:05',\n",
       " 'emit_scan_WS12_2020-06-12T21:07:29',\n",
       " 'emit_scan_WS12_2020-06-12T21:09:19',\n",
       " 'emit_scan_WS12_2020-06-12T21:12:45',\n",
       " 'emit_scan_WS12_2020-06-12T21:14:24',\n",
       " 'emit_scan_WS12_2020-06-12T21:50:53',\n",
       " 'emit_scan_WS12_2020-06-12T21:52:40',\n",
       " 'emit_scan_WS12_2020-06-22T23:33:54',\n",
       " 'emit_scan_WS12_2020-06-22T23:37:26',\n",
       " 'emit_scan_WS12_2020-06-22T23:41:27',\n",
       " 'emit_scan_WS12_2020-06-22T23:48:13',\n",
       " 'emit_scan_WS12_2020-06-22T23:50:43',\n",
       " 'emit_scan_WS12_2020-07-08T14:55:31',\n",
       " 'emit_scan_WS12_2020-07-08T14:57:48',\n",
       " 'emit_scan_WS12_2020-07-08T15:02:43',\n",
       " 'emit_scan_WS12_2020-07-08T15:05:08',\n",
       " 'emit_scan_WS12_2020-07-08T18:22:18',\n",
       " 'emit_scan_WS12_2020-07-08T18:26:00',\n",
       " 'emit_scan_WS12_2020-07-18T10:13:25',\n",
       " 'emit_scan_WS12_2020-07-18T10:15:44',\n",
       " 'emit_scan_WS12_2020-07-19T20:09:30',\n",
       " 'emit_scan_WS12_2020-07-19T20:13:05',\n",
       " 'emit_scan_WS12_2020-07-29T14:58:30',\n",
       " 'emit_scan_WS12_2020-07-29T15:04:33',\n",
       " 'emit_scan_WS32_2020-07-29T21:12:24',\n",
       " 'emit_scan_WS32_2020-07-29T21:15:58',\n",
       " 'emit_scan_YAGPSI_2020-07-08T20:21:40',\n",
       " 'emit_scan_YAGPSI_2020-07-08T20:24:11',\n",
       " 'emit_scan_YAGPSI_2020-07-08T20:31:20',\n",
       " 'emit_scan_YAGPSI_2020-07-08T20:50:31',\n",
       " 'emit_scan_YAGPSI_2020-07-08T21:00:57',\n",
       " 'emit_scan_YAGPSI_2020-07-08T21:19:38',\n",
       " 'emit_scan_YAGPSI_2020-07-08T21:24:03',\n",
       " 'emit_scan_YAGPSI_2020-07-08T21:33:29',\n",
       " 'emit_scan_YAGPSI_2020-07-08T21:51:11',\n",
       " 'emit_scan_YAGPSI_2020-07-08T23:25:25',\n",
       " 'emit_scan_YAGPSI_2020-07-08T23:34:56',\n",
       " 'emit_scan_YAGS1_2020-06-21T13:07:58']"
      ]
     },
     "execution_count": 74,
     "metadata": {},
     "output_type": "execute_result"
    }
   ],
   "source": [
    "emitfile = '2020_summer_cu_inj_emit_data.h5'\n",
    "f         = h5py.File(emitfile, 'r')  \n",
    "list(f.keys())"
   ]
  },
  {
   "cell_type": "code",
   "execution_count": 140,
   "metadata": {},
   "outputs": [
    {
     "data": {
      "text/plain": [
       "['ctrl_pv', 'data_types', 'file', 'isotime', 'matlab_timestamp']"
      ]
     },
     "execution_count": 140,
     "metadata": {},
     "output_type": "execute_result"
    }
   ],
   "source": [
    "list(f['emit_scan_OTR2_2020-06-11T00:54:57'].attrs)"
   ]
  },
  {
   "cell_type": "code",
   "execution_count": 205,
   "metadata": {},
   "outputs": [
    {
     "data": {
      "text/plain": [
       "'/u1/lcls/matlab/data/2020/2020-06/2020-06-11/Emittance-scan-OTRS_IN20_571-2020-06-11-005457.mat'"
      ]
     },
     "execution_count": 205,
     "metadata": {},
     "output_type": "execute_result"
    }
   ],
   "source": [
    "f['emit_scan_OTR2_2020-06-11T00:54:57'].attrs['file']"
   ]
  },
  {
   "cell_type": "code",
   "execution_count": 202,
   "metadata": {},
   "outputs": [
    {
     "data": {
      "text/plain": [
       "<KeysViewHDF5 ['beam_data', 'pvdata']>"
      ]
     },
     "execution_count": 202,
     "metadata": {},
     "output_type": "execute_result"
    }
   ],
   "source": [
    "f['emit_scan_WS12_2020-06-22T23:41:27'].keys()"
   ]
  },
  {
   "cell_type": "code",
   "execution_count": 142,
   "metadata": {},
   "outputs": [
    {
     "data": {
      "text/plain": [
       "['emittance_unit']"
      ]
     },
     "execution_count": 142,
     "metadata": {},
     "output_type": "execute_result"
    }
   ],
   "source": [
    "list(f['emit_scan_OTR2_2020-06-11T00:54:57']['beam_data']['emittance'].attrs)"
   ]
  },
  {
   "cell_type": "code",
   "execution_count": 99,
   "metadata": {},
   "outputs": [
    {
     "data": {
      "text/plain": [
       "['beam_sizes', 'emittance']"
      ]
     },
     "execution_count": 99,
     "metadata": {},
     "output_type": "execute_result"
    }
   ],
   "source": [
    " list(f['emit_scan_OTR2_2020-06-11T00:54:57']['beam_data'].keys())"
   ]
  },
  {
   "cell_type": "code",
   "execution_count": 105,
   "metadata": {},
   "outputs": [
    {
     "data": {
      "text/plain": [
       "['emit_x', 'emit_y']"
      ]
     },
     "execution_count": 105,
     "metadata": {},
     "output_type": "execute_result"
    }
   ],
   "source": [
    "list(f['emit_scan_OTR2_2020-06-11T00:54:57']['beam_data']['emittance']['Gaussian'])"
   ]
  },
  {
   "cell_type": "code",
   "execution_count": 115,
   "metadata": {},
   "outputs": [
    {
     "data": {
      "text/plain": [
       "<HDF5 dataset \"emit_x\": shape (), type \"<f8\">"
      ]
     },
     "execution_count": 115,
     "metadata": {},
     "output_type": "execute_result"
    }
   ],
   "source": [
    "f['emit_scan_OTR2_2020-06-11T00:54:57']['beam_data']['emittance']['Gaussian']['emit_x']"
   ]
  },
  {
   "cell_type": "code",
   "execution_count": 190,
   "metadata": {},
   "outputs": [],
   "source": [
    "#f[runlist[0]]['beam_data'].keys()"
   ]
  },
  {
   "cell_type": "code",
   "execution_count": 191,
   "metadata": {},
   "outputs": [
    {
     "data": {
      "text/plain": [
       "0.4748296525242685"
      ]
     },
     "execution_count": 191,
     "metadata": {},
     "output_type": "execute_result"
    }
   ],
   "source": [
    "f[runlist[0]]['beam_data']['emittance']['Gaussian']['emit_x'][()]"
   ]
  },
  {
   "cell_type": "code",
   "execution_count": 192,
   "metadata": {},
   "outputs": [],
   "source": [
    "#f['emit_scan_OTR2_2020-07-08T02:06:31']['pvdata'].keys() --> looks bad"
   ]
  },
  {
   "cell_type": "code",
   "execution_count": 203,
   "metadata": {},
   "outputs": [],
   "source": [
    "runlist =['emit_scan_OTR2_2020-06-11T00:54:57',\n",
    " 'emit_scan_OTR2_2020-06-11T01:16:44',\n",
    " 'emit_scan_OTR2_2020-06-11T01:21:42',\n",
    " 'emit_scan_OTR2_2020-06-11T04:31:57',\n",
    " 'emit_scan_OTR2_2020-06-11T04:44:55',\n",
    " 'emit_scan_OTR2_2020-06-11T04:52:05',\n",
    " 'emit_scan_OTR2_2020-06-11T05:04:40',\n",
    " 'emit_scan_OTR2_2020-06-11T05:30:28',\n",
    " 'emit_scan_OTR2_2020-06-11T05:36:38',\n",
    " 'emit_scan_OTR2_2020-06-11T20:33:44',\n",
    " 'emit_scan_OTR2_2020-06-11T20:37:55',\n",
    " 'emit_scan_OTR2_2020-06-11T20:39:49',\n",
    " 'emit_scan_OTR2_2020-06-12T20:48:44',\n",
    " 'emit_scan_OTR2_2020-06-12T20:54:46',\n",
    " 'emit_scan_OTR2_2020-06-12T22:54:41',\n",
    " 'emit_scan_OTR2_2020-06-21T08:39:23',\n",
    " 'emit_scan_OTR2_2020-06-21T08:47:29',\n",
    " 'emit_scan_OTR2_2020-06-21T14:46:13',\n",
    " 'emit_scan_OTR2_2020-06-21T14:51:52',\n",
    " 'emit_scan_OTR2_2020-06-21T16:12:38',\n",
    " 'emit_scan_OTR2_2020-06-21T16:51:08',\n",
    " 'emit_scan_OTR2_2020-06-21T16:54:25',\n",
    " 'emit_scan_OTR2_2020-06-21T16:59:44',\n",
    " 'emit_scan_OTR2_2020-06-22T23:03:13',\n",
    " 'emit_scan_OTR2_2020-06-22T23:15:21',\n",
    " 'emit_scan_OTR2_2020-06-22T23:19:06',\n",
    " 'emit_scan_OTR2_2020-06-22T23:23:02',\n",
    " 'emit_scan_OTR2_2020-07-08T01:52:47',\n",
    " 'emit_scan_OTR2_2020-07-08T01:56:48',\n",
    " 'emit_scan_OTR2_2020-07-09T04:43:43',\n",
    " 'emit_scan_OTR2_2020-07-19T19:31:08',\n",
    " 'emit_scan_OTR2_2020-07-29T14:14:35',\n",
    " 'emit_scan_OTR2_2020-07-29T14:17:25',\n",
    " 'emit_scan_OTR2_2020-07-29T14:44:21',\n",
    " 'emit_scan_OTR2_2020-07-29T14:47:28',\n",
    " 'emit_scan_OTR2_2020-07-29T14:52:05',\n",
    " 'emit_scan_OTR2_2020-07-30T05:05:34',\n",
    "          \n",
    "'emit_scan_WS02_2020-06-11T02:50:25',\n",
    " 'emit_scan_WS02_2020-06-11T03:16:42',\n",
    " 'emit_scan_WS02_2020-06-11T03:18:51',\n",
    " 'emit_scan_WS02_2020-06-11T03:24:38',\n",
    " 'emit_scan_WS02_2020-06-11T03:31:03',\n",
    " 'emit_scan_WS02_2020-06-11T03:32:35',\n",
    " 'emit_scan_WS02_2020-06-11T03:39:26',\n",
    " 'emit_scan_WS02_2020-06-11T03:43:37',\n",
    " 'emit_scan_WS02_2020-06-11T03:46:26',\n",
    " 'emit_scan_WS02_2020-06-11T04:27:31',\n",
    " 'emit_scan_WS02_2020-06-11T04:29:48',\n",
    " 'emit_scan_WS02_2020-06-11T05:07:25',\n",
    " 'emit_scan_WS02_2020-06-11T05:09:03',\n",
    " 'emit_scan_WS02_2020-06-11T05:13:56',\n",
    " 'emit_scan_WS02_2020-06-11T05:15:42',\n",
    " 'emit_scan_WS02_2020-06-11T05:20:37',\n",
    " 'emit_scan_WS02_2020-06-11T05:22:38',\n",
    " 'emit_scan_WS02_2020-06-11T05:33:13',\n",
    " 'emit_scan_WS02_2020-06-11T05:34:49',\n",
    " 'emit_scan_WS02_2020-06-11T06:24:48',\n",
    " 'emit_scan_WS02_2020-06-11T06:26:34',\n",
    " 'emit_scan_WS02_2020-06-11T07:24:11',\n",
    " 'emit_scan_WS02_2020-06-11T07:25:57',\n",
    " 'emit_scan_WS02_2020-06-11T20:45:23',\n",
    " 'emit_scan_WS02_2020-06-11T20:47:07',\n",
    " 'emit_scan_WS02_2020-06-12T08:10:09',\n",
    " 'emit_scan_WS02_2020-06-12T20:57:17',\n",
    " 'emit_scan_WS02_2020-06-12T20:58:44',\n",
    " 'emit_scan_WS02_2020-06-21T08:41:47',\n",
    " 'emit_scan_WS02_2020-06-21T08:43:54',\n",
    " 'emit_scan_WS02_2020-06-21T08:45:31',\n",
    " 'emit_scan_WS02_2020-06-21T14:55:53',\n",
    " 'emit_scan_WS02_2020-06-21T14:57:48',\n",
    " 'emit_scan_WS02_2020-06-21T15:00:08',\n",
    " 'emit_scan_WS02_2020-07-08T18:17:01',\n",
    " 'emit_scan_WS02_2020-07-08T18:19:10',\n",
    " 'emit_scan_WS02_2020-07-09T05:49:10',\n",
    " 'emit_scan_WS02_2020-07-09T05:52:05',\n",
    " 'emit_scan_WS02_2020-07-09T06:28:00',\n",
    " 'emit_scan_WS02_2020-07-09T06:29:45',\n",
    " 'emit_scan_WS02_2020-07-09T06:44:11',\n",
    " 'emit_scan_WS02_2020-07-09T06:46:10',\n",
    " 'emit_scan_WS02_2020-07-18T10:08:18',\n",
    " 'emit_scan_WS02_2020-07-18T10:10:40',\n",
    " 'emit_scan_WS02_2020-07-19T19:33:04',\n",
    " 'emit_scan_WS02_2020-07-19T20:03:28',\n",
    " 'emit_scan_WS02_2020-07-29T17:52:12',\n",
    " 'emit_scan_WS02_2020-07-29T17:53:47']"
   ]
  },
  {
   "cell_type": "code",
   "execution_count": 215,
   "metadata": {},
   "outputs": [
    {
     "data": {
      "text/plain": [
       "'2020-06-11T01:16:44.312312-07:00'"
      ]
     },
     "execution_count": 215,
     "metadata": {},
     "output_type": "execute_result"
    }
   ],
   "source": [
    "f[key].attrs['isotime']"
   ]
  },
  {
   "cell_type": "code",
   "execution_count": 216,
   "metadata": {},
   "outputs": [
    {
     "data": {
      "text/plain": [
       "737953.0532906518"
      ]
     },
     "execution_count": 216,
     "metadata": {},
     "output_type": "execute_result"
    }
   ],
   "source": [
    "f[key].attrs['matlab_timestamp']"
   ]
  },
  {
   "cell_type": "code",
   "execution_count": 217,
   "metadata": {},
   "outputs": [
    {
     "name": "stdout",
     "output_type": "stream",
     "text": [
      "emit_scan_OTR2_2020-06-11T00:54:57\n",
      "emit_scan_OTR2_2020-06-11T01:16:44\n",
      "emit_scan_OTR2_2020-06-11T01:21:42\n",
      "emit_scan_OTR2_2020-06-11T04:31:57\n",
      "emit_scan_OTR2_2020-06-11T04:44:55\n",
      "emit_scan_OTR2_2020-06-11T04:52:05\n",
      "emit_scan_OTR2_2020-06-11T05:04:40\n",
      "emit_scan_OTR2_2020-06-11T05:30:28\n",
      "emit_scan_OTR2_2020-06-11T05:36:38\n",
      "emit_scan_OTR2_2020-06-11T20:33:44\n",
      "emit_scan_OTR2_2020-06-11T20:37:55\n",
      "emit_scan_OTR2_2020-06-11T20:39:49\n",
      "emit_scan_OTR2_2020-06-12T20:48:44\n",
      "emit_scan_OTR2_2020-06-12T20:54:46\n",
      "emit_scan_OTR2_2020-06-12T22:54:41\n",
      "emit_scan_OTR2_2020-06-21T08:39:23\n",
      "emit_scan_OTR2_2020-06-21T08:47:29\n",
      "emit_scan_OTR2_2020-06-21T14:46:13\n",
      "emit_scan_OTR2_2020-06-21T14:51:52\n",
      "emit_scan_OTR2_2020-06-21T16:12:38\n",
      "emit_scan_OTR2_2020-06-21T16:51:08\n",
      "emit_scan_OTR2_2020-06-21T16:54:25\n",
      "emit_scan_OTR2_2020-06-21T16:59:44\n",
      "emit_scan_OTR2_2020-06-22T23:03:13\n",
      "emit_scan_OTR2_2020-06-22T23:15:21\n",
      "emit_scan_OTR2_2020-06-22T23:19:06\n",
      "emit_scan_OTR2_2020-06-22T23:23:02\n",
      "emit_scan_OTR2_2020-07-08T01:52:47\n",
      "emit_scan_OTR2_2020-07-08T01:56:48\n",
      "emit_scan_OTR2_2020-07-09T04:43:43\n",
      "emit_scan_OTR2_2020-07-19T19:31:08\n",
      "emit_scan_OTR2_2020-07-29T14:14:35\n",
      "emit_scan_OTR2_2020-07-29T14:17:25\n",
      "emit_scan_OTR2_2020-07-29T14:44:21\n",
      "emit_scan_OTR2_2020-07-29T14:47:28\n",
      "emit_scan_OTR2_2020-07-29T14:52:05\n",
      "emit_scan_OTR2_2020-07-30T05:05:34\n",
      "emit_scan_WS02_2020-06-11T02:50:25\n",
      "emit_scan_WS02_2020-06-11T03:16:42\n",
      "emit_scan_WS02_2020-06-11T03:18:51\n",
      "emit_scan_WS02_2020-06-11T03:24:38\n",
      "emit_scan_WS02_2020-06-11T03:31:03\n",
      "emit_scan_WS02_2020-06-11T03:32:35\n",
      "emit_scan_WS02_2020-06-11T03:39:26\n",
      "emit_scan_WS02_2020-06-11T03:43:37\n",
      "emit_scan_WS02_2020-06-11T03:46:26\n",
      "emit_scan_WS02_2020-06-11T04:27:31\n",
      "emit_scan_WS02_2020-06-11T04:29:48\n",
      "emit_scan_WS02_2020-06-11T05:07:25\n",
      "emit_scan_WS02_2020-06-11T05:09:03\n",
      "emit_scan_WS02_2020-06-11T05:13:56\n",
      "emit_scan_WS02_2020-06-11T05:15:42\n",
      "emit_scan_WS02_2020-06-11T05:20:37\n",
      "emit_scan_WS02_2020-06-11T05:22:38\n",
      "emit_scan_WS02_2020-06-11T05:33:13\n",
      "emit_scan_WS02_2020-06-11T05:34:49\n",
      "emit_scan_WS02_2020-06-11T06:24:48\n",
      "emit_scan_WS02_2020-06-11T06:26:34\n",
      "emit_scan_WS02_2020-06-11T07:24:11\n",
      "emit_scan_WS02_2020-06-11T07:25:57\n",
      "emit_scan_WS02_2020-06-11T20:45:23\n",
      "emit_scan_WS02_2020-06-11T20:47:07\n",
      "emit_scan_WS02_2020-06-12T08:10:09\n",
      "emit_scan_WS02_2020-06-12T20:57:17\n",
      "emit_scan_WS02_2020-06-12T20:58:44\n",
      "emit_scan_WS02_2020-06-21T08:41:47\n",
      "emit_scan_WS02_2020-06-21T08:43:54\n",
      "emit_scan_WS02_2020-06-21T08:45:31\n",
      "emit_scan_WS02_2020-06-21T14:55:53\n",
      "emit_scan_WS02_2020-06-21T14:57:48\n",
      "emit_scan_WS02_2020-06-21T15:00:08\n",
      "emit_scan_WS02_2020-07-08T18:17:01\n",
      "emit_scan_WS02_2020-07-08T18:19:10\n",
      "emit_scan_WS02_2020-07-09T05:49:10\n",
      "emit_scan_WS02_2020-07-09T05:52:05\n",
      "emit_scan_WS02_2020-07-09T06:28:00\n",
      "emit_scan_WS02_2020-07-09T06:29:45\n",
      "emit_scan_WS02_2020-07-09T06:44:11\n",
      "emit_scan_WS02_2020-07-09T06:46:10\n",
      "emit_scan_WS02_2020-07-18T10:08:18\n",
      "emit_scan_WS02_2020-07-18T10:10:40\n",
      "emit_scan_WS02_2020-07-19T19:33:04\n",
      "emit_scan_WS02_2020-07-19T20:03:28\n",
      "emit_scan_WS02_2020-07-29T17:52:12\n",
      "emit_scan_WS02_2020-07-29T17:53:47\n"
     ]
    }
   ],
   "source": [
    "#Get EMITTANCE\n",
    "pvlist=['ACCL:IN20:300:L0A_PDES',\n",
    "'ACCL:IN20:400:L0B_PDES',\n",
    "'IRIS:LR20:130:MOTR_ANGLE',\n",
    "'QUAD:IN20:121:BDES',\n",
    "'QUAD:IN20:122:BDES',\n",
    "'SOLN:IN20:121:BDES']\n",
    "\n",
    "measlist=['emit_x','emit_y'] \n",
    "\n",
    "inputs = np.empty((len(runlist),len(pvlist)))\n",
    "outputs = np.empty((len(runlist),2))\n",
    "ts1 = []\n",
    "ts2 = []\n",
    "row=0\n",
    "for key in runlist:\n",
    "\n",
    "    print(key)\n",
    "    emit_group = f[key]['beam_data']['emittance']\n",
    "    pv_group = f[key]['pvdata'].attrs\n",
    "    \n",
    "    outputs[row,0]=emit_group['Gaussian'][measlist[0]][()]\n",
    "    outputs[row,1]=emit_group['Gaussian'][measlist[1]][()]\n",
    "    ts1.append(f[key].attrs['isotime'])\n",
    "    ts2.append(f[key].attrs['matlab_timestamp'])\n",
    "    \n",
    "    column=0\n",
    "    for pv in pvlist:\n",
    "        inputs[row,column] = pv_group[pv]\n",
    "        column=column+1\n",
    "    row=row+1"
   ]
  },
  {
   "cell_type": "code",
   "execution_count": 219,
   "metadata": {},
   "outputs": [],
   "source": [
    "pd_in=pandas.DataFrame(inputs,columns=pvlist)"
   ]
  },
  {
   "cell_type": "code",
   "execution_count": 221,
   "metadata": {},
   "outputs": [],
   "source": [
    "pd_out=pandas.DataFrame(outputs,columns=measlist)"
   ]
  },
  {
   "cell_type": "code",
   "execution_count": 222,
   "metadata": {},
   "outputs": [],
   "source": [
    "pd_out['isotime']=ts1"
   ]
  },
  {
   "cell_type": "code",
   "execution_count": 223,
   "metadata": {},
   "outputs": [],
   "source": [
    "pd_out['matlab_timestamp']=ts2"
   ]
  },
  {
   "cell_type": "code",
   "execution_count": 224,
   "metadata": {},
   "outputs": [],
   "source": [
    "pd_out['file']=runlist"
   ]
  },
  {
   "cell_type": "code",
   "execution_count": 230,
   "metadata": {},
   "outputs": [],
   "source": [
    "df=pd.concat([pd_in,pd_out],axis=1)"
   ]
  },
  {
   "cell_type": "code",
   "execution_count": 240,
   "metadata": {},
   "outputs": [
    {
     "data": {
      "text/plain": [
       "[<matplotlib.lines.Line2D at 0x7f62027780b8>]"
      ]
     },
     "execution_count": 240,
     "metadata": {},
     "output_type": "execute_result"
    },
    {
     "data": {
      "image/png": "[encoded data removed]",
      "text/plain": [
       "<Figure size 450x300 with 1 Axes>"
      ]
     },
     "metadata": {
      "needs_background": "light"
     },
     "output_type": "display_data"
    }
   ],
   "source": [
    "plt.plot(df['SOLN:IN20:121:BDES'],df['emit_x'],'.')"
   ]
  },
  {
   "cell_type": "code",
   "execution_count": 241,
   "metadata": {},
   "outputs": [
    {
     "data": {
      "text/plain": [
       "[<matplotlib.lines.Line2D at 0x7f62027552b0>]"
      ]
     },
     "execution_count": 241,
     "metadata": {},
     "output_type": "execute_result"
    },
    {
     "data": {
      "image/png": "[encoded data removed]",
      "text/plain": [
       "<Figure size 450x300 with 1 Axes>"
      ]
     },
     "metadata": {
      "needs_background": "light"
     },
     "output_type": "display_data"
    }
   ],
   "source": [
    "plt.plot(df['QUAD:IN20:121:BDES'],df['emit_x'],'.')"
   ]
  },
  {
   "cell_type": "code",
   "execution_count": null,
   "metadata": {},
   "outputs": [],
   "source": [
    "plt.plot(df['QUAD:IN20:121:BDES'][0:37],df['emit_x'][0:37],'.')"
   ]
  },
  {
   "cell_type": "code",
   "execution_count": 238,
   "metadata": {},
   "outputs": [
    {
     "data": {
      "text/plain": [
       "[<matplotlib.lines.Line2D at 0x7f6202830860>]"
      ]
     },
     "execution_count": 238,
     "metadata": {},
     "output_type": "execute_result"
    },
    {
     "data": {
      "image/png": "[encoded data removed]",
      "text/plain": [
       "<Figure size 450x300 with 1 Axes>"
      ]
     },
     "metadata": {
      "needs_background": "light"
     },
     "output_type": "display_data"
    }
   ],
   "source": [
    "plt.plot(df['QUAD:IN20:122:BDES'][0:37],df['emit_x'][0:37],'.')"
   ]
  },
  {
   "cell_type": "code",
   "execution_count": 239,
   "metadata": {},
   "outputs": [
    {
     "data": {
      "text/plain": [
       "[<matplotlib.lines.Line2D at 0x7f620280cba8>]"
      ]
     },
     "execution_count": 239,
     "metadata": {},
     "output_type": "execute_result"
    },
    {
     "data": {
      "image/png": "[encoded data removed]",
      "text/plain": [
       "<Figure size 450x300 with 1 Axes>"
      ]
     },
     "metadata": {
      "needs_background": "light"
     },
     "output_type": "display_data"
    }
   ],
   "source": [
    "plt.plot(df['ACCL:IN20:300:L0A_PDES'][0:37],df['emit_x'][0:37],'.')"
   ]
  },
  {
   "cell_type": "code",
   "execution_count": 242,
   "metadata": {},
   "outputs": [
    {
     "data": {
      "text/html": [
       "<div>\n",
       "<style scoped>\n",
       "    .dataframe tbody tr th:only-of-type {\n",
       "        vertical-align: middle;\n",
       "    }\n",
       "\n",
       "    .dataframe tbody tr th {\n",
       "        vertical-align: top;\n",
       "    }\n",
       "\n",
       "    .dataframe thead th {\n",
       "        text-align: right;\n",
       "    }\n",
       "</style>\n",
       "<table border=\"1\" class=\"dataframe\">\n",
       "  <thead>\n",
       "    <tr style=\"text-align: right;\">\n",
       "      <th></th>\n",
       "      <th>ACCL:IN20:300:L0A_PDES</th>\n",
       "      <th>ACCL:IN20:400:L0B_PDES</th>\n",
       "      <th>IRIS:LR20:130:MOTR_ANGLE</th>\n",
       "      <th>QUAD:IN20:121:BDES</th>\n",
       "      <th>QUAD:IN20:122:BDES</th>\n",
       "      <th>SOLN:IN20:121:BDES</th>\n",
       "      <th>emit_x</th>\n",
       "      <th>emit_y</th>\n",
       "      <th>isotime</th>\n",
       "      <th>matlab_timestamp</th>\n",
       "      <th>file</th>\n",
       "    </tr>\n",
       "  </thead>\n",
       "  <tbody>\n",
       "    <tr>\n",
       "      <th>0</th>\n",
       "      <td>0.000000</td>\n",
       "      <td>-2.5</td>\n",
       "      <td>220.199997</td>\n",
       "      <td>-0.002441</td>\n",
       "      <td>0.000000</td>\n",
       "      <td>0.463500</td>\n",
       "      <td>0.474830</td>\n",
       "      <td>0.470404</td>\n",
       "      <td>2020-06-11T00:54:57.020600-07:00</td>\n",
       "      <td>737953.038160</td>\n",
       "      <td>emit_scan_OTR2_2020-06-11T00:54:57</td>\n",
       "    </tr>\n",
       "    <tr>\n",
       "      <th>1</th>\n",
       "      <td>0.000000</td>\n",
       "      <td>-2.5</td>\n",
       "      <td>220.199997</td>\n",
       "      <td>-0.002441</td>\n",
       "      <td>0.000000</td>\n",
       "      <td>0.463500</td>\n",
       "      <td>0.459884</td>\n",
       "      <td>0.484624</td>\n",
       "      <td>2020-06-11T01:16:44.312312-07:00</td>\n",
       "      <td>737953.053291</td>\n",
       "      <td>emit_scan_OTR2_2020-06-11T01:16:44</td>\n",
       "    </tr>\n",
       "    <tr>\n",
       "      <th>2</th>\n",
       "      <td>0.000000</td>\n",
       "      <td>-2.5</td>\n",
       "      <td>220.199997</td>\n",
       "      <td>-0.002441</td>\n",
       "      <td>0.000000</td>\n",
       "      <td>0.463500</td>\n",
       "      <td>0.446228</td>\n",
       "      <td>0.449539</td>\n",
       "      <td>2020-06-11T01:21:42.869343-07:00</td>\n",
       "      <td>737953.056746</td>\n",
       "      <td>emit_scan_OTR2_2020-06-11T01:21:42</td>\n",
       "    </tr>\n",
       "    <tr>\n",
       "      <th>3</th>\n",
       "      <td>0.000000</td>\n",
       "      <td>-2.5</td>\n",
       "      <td>220.199997</td>\n",
       "      <td>-0.002441</td>\n",
       "      <td>0.000000</td>\n",
       "      <td>0.465725</td>\n",
       "      <td>0.612395</td>\n",
       "      <td>0.616762</td>\n",
       "      <td>2020-06-11T04:31:57.509984-07:00</td>\n",
       "      <td>737953.188860</td>\n",
       "      <td>emit_scan_OTR2_2020-06-11T04:31:57</td>\n",
       "    </tr>\n",
       "    <tr>\n",
       "      <th>4</th>\n",
       "      <td>0.000000</td>\n",
       "      <td>-2.5</td>\n",
       "      <td>220.199997</td>\n",
       "      <td>-0.002441</td>\n",
       "      <td>0.000000</td>\n",
       "      <td>0.465725</td>\n",
       "      <td>0.563129</td>\n",
       "      <td>0.674135</td>\n",
       "      <td>2020-06-11T04:44:55.507786-07:00</td>\n",
       "      <td>737953.197865</td>\n",
       "      <td>emit_scan_OTR2_2020-06-11T04:44:55</td>\n",
       "    </tr>\n",
       "    <tr>\n",
       "      <th>...</th>\n",
       "      <td>...</td>\n",
       "      <td>...</td>\n",
       "      <td>...</td>\n",
       "      <td>...</td>\n",
       "      <td>...</td>\n",
       "      <td>...</td>\n",
       "      <td>...</td>\n",
       "      <td>...</td>\n",
       "      <td>...</td>\n",
       "      <td>...</td>\n",
       "      <td>...</td>\n",
       "    </tr>\n",
       "    <tr>\n",
       "      <th>80</th>\n",
       "      <td>0.752309</td>\n",
       "      <td>-2.5</td>\n",
       "      <td>220.602005</td>\n",
       "      <td>0.002500</td>\n",
       "      <td>0.000000</td>\n",
       "      <td>0.465753</td>\n",
       "      <td>0.000000</td>\n",
       "      <td>0.442165</td>\n",
       "      <td>2020-07-18T10:10:40.855724-07:00</td>\n",
       "      <td>737990.424084</td>\n",
       "      <td>emit_scan_WS02_2020-07-18T10:10:40</td>\n",
       "    </tr>\n",
       "    <tr>\n",
       "      <th>81</th>\n",
       "      <td>0.752309</td>\n",
       "      <td>-2.5</td>\n",
       "      <td>220.602005</td>\n",
       "      <td>0.002500</td>\n",
       "      <td>0.000000</td>\n",
       "      <td>0.465753</td>\n",
       "      <td>0.000000</td>\n",
       "      <td>0.549781</td>\n",
       "      <td>2020-07-19T19:33:04.338006-07:00</td>\n",
       "      <td>737991.814634</td>\n",
       "      <td>emit_scan_WS02_2020-07-19T19:33:04</td>\n",
       "    </tr>\n",
       "    <tr>\n",
       "      <th>82</th>\n",
       "      <td>0.752309</td>\n",
       "      <td>-2.5</td>\n",
       "      <td>220.602005</td>\n",
       "      <td>0.002500</td>\n",
       "      <td>0.000000</td>\n",
       "      <td>0.465753</td>\n",
       "      <td>0.466663</td>\n",
       "      <td>0.000000</td>\n",
       "      <td>2020-07-19T20:03:28.523083-07:00</td>\n",
       "      <td>737991.835747</td>\n",
       "      <td>emit_scan_WS02_2020-07-19T20:03:28</td>\n",
       "    </tr>\n",
       "    <tr>\n",
       "      <th>83</th>\n",
       "      <td>0.000000</td>\n",
       "      <td>-2.5</td>\n",
       "      <td>220.602005</td>\n",
       "      <td>0.001058</td>\n",
       "      <td>0.000552</td>\n",
       "      <td>0.466020</td>\n",
       "      <td>0.000000</td>\n",
       "      <td>0.500671</td>\n",
       "      <td>2020-07-29T17:52:12.938713-07:00</td>\n",
       "      <td>738001.744594</td>\n",
       "      <td>emit_scan_WS02_2020-07-29T17:52:12</td>\n",
       "    </tr>\n",
       "    <tr>\n",
       "      <th>84</th>\n",
       "      <td>0.000000</td>\n",
       "      <td>-2.5</td>\n",
       "      <td>220.602005</td>\n",
       "      <td>0.001058</td>\n",
       "      <td>0.000552</td>\n",
       "      <td>0.466020</td>\n",
       "      <td>0.433612</td>\n",
       "      <td>0.000000</td>\n",
       "      <td>2020-07-29T17:53:47.781721-07:00</td>\n",
       "      <td>738001.745692</td>\n",
       "      <td>emit_scan_WS02_2020-07-29T17:53:47</td>\n",
       "    </tr>\n",
       "  </tbody>\n",
       "</table>\n",
       "<p>85 rows × 11 columns</p>\n",
       "</div>"
      ],
      "text/plain": [
       "    ACCL:IN20:300:L0A_PDES  ACCL:IN20:400:L0B_PDES  IRIS:LR20:130:MOTR_ANGLE  \\\n",
       "0                 0.000000                    -2.5                220.199997   \n",
       "1                 0.000000                    -2.5                220.199997   \n",
       "2                 0.000000                    -2.5                220.199997   \n",
       "3                 0.000000                    -2.5                220.199997   \n",
       "4                 0.000000                    -2.5                220.199997   \n",
       "..                     ...                     ...                       ...   \n",
       "80                0.752309                    -2.5                220.602005   \n",
       "81                0.752309                    -2.5                220.602005   \n",
       "82                0.752309                    -2.5                220.602005   \n",
       "83                0.000000                    -2.5                220.602005   \n",
       "84                0.000000                    -2.5                220.602005   \n",
       "\n",
       "    QUAD:IN20:121:BDES  QUAD:IN20:122:BDES  SOLN:IN20:121:BDES    emit_x  \\\n",
       "0            -0.002441            0.000000            0.463500  0.474830   \n",
       "1            -0.002441            0.000000            0.463500  0.459884   \n",
       "2            -0.002441            0.000000            0.463500  0.446228   \n",
       "3            -0.002441            0.000000            0.465725  0.612395   \n",
       "4            -0.002441            0.000000            0.465725  0.563129   \n",
       "..                 ...                 ...                 ...       ...   \n",
       "80            0.002500            0.000000            0.465753  0.000000   \n",
       "81            0.002500            0.000000            0.465753  0.000000   \n",
       "82            0.002500            0.000000            0.465753  0.466663   \n",
       "83            0.001058            0.000552            0.466020  0.000000   \n",
       "84            0.001058            0.000552            0.466020  0.433612   \n",
       "\n",
       "      emit_y                           isotime  matlab_timestamp  \\\n",
       "0   0.470404  2020-06-11T00:54:57.020600-07:00     737953.038160   \n",
       "1   0.484624  2020-06-11T01:16:44.312312-07:00     737953.053291   \n",
       "2   0.449539  2020-06-11T01:21:42.869343-07:00     737953.056746   \n",
       "3   0.616762  2020-06-11T04:31:57.509984-07:00     737953.188860   \n",
       "4   0.674135  2020-06-11T04:44:55.507786-07:00     737953.197865   \n",
       "..       ...                               ...               ...   \n",
       "80  0.442165  2020-07-18T10:10:40.855724-07:00     737990.424084   \n",
       "81  0.549781  2020-07-19T19:33:04.338006-07:00     737991.814634   \n",
       "82  0.000000  2020-07-19T20:03:28.523083-07:00     737991.835747   \n",
       "83  0.500671  2020-07-29T17:52:12.938713-07:00     738001.744594   \n",
       "84  0.000000  2020-07-29T17:53:47.781721-07:00     738001.745692   \n",
       "\n",
       "                                  file  \n",
       "0   emit_scan_OTR2_2020-06-11T00:54:57  \n",
       "1   emit_scan_OTR2_2020-06-11T01:16:44  \n",
       "2   emit_scan_OTR2_2020-06-11T01:21:42  \n",
       "3   emit_scan_OTR2_2020-06-11T04:31:57  \n",
       "4   emit_scan_OTR2_2020-06-11T04:44:55  \n",
       "..                                 ...  \n",
       "80  emit_scan_WS02_2020-07-18T10:10:40  \n",
       "81  emit_scan_WS02_2020-07-19T19:33:04  \n",
       "82  emit_scan_WS02_2020-07-19T20:03:28  \n",
       "83  emit_scan_WS02_2020-07-29T17:52:12  \n",
       "84  emit_scan_WS02_2020-07-29T17:53:47  \n",
       "\n",
       "[85 rows x 11 columns]"
      ]
     },
     "execution_count": 242,
     "metadata": {},
     "output_type": "execute_result"
    }
   ],
   "source": [
    "import pandas as pd\n",
    "store = pd.HDFStore('store.h5')\n",
    "\n",
    "store['df'] = df  # save it\n",
    "store['df']  # load it\n"
   ]
  },
  {
   "cell_type": "code",
   "execution_count": 117,
   "metadata": {},
   "outputs": [
    {
     "data": {
      "text/plain": [
       "0.4748296525242685"
      ]
     },
     "execution_count": 117,
     "metadata": {},
     "output_type": "execute_result"
    }
   ],
   "source": [
    "f['emit_scan_OTR2_2020-06-11T00:54:57']['beam_data']['emittance']['Gaussian']['emit_x'][()]"
   ]
  },
  {
   "cell_type": "code",
   "execution_count": 111,
   "metadata": {},
   "outputs": [
    {
     "data": {
      "text/plain": [
       "[]"
      ]
     },
     "execution_count": 111,
     "metadata": {},
     "output_type": "execute_result"
    }
   ],
   "source": [
    "list(f['emit_scan_OTR2_2020-06-11T00:54:57']['beam_data']['emittance']['Gaussian']['emit_x'].attrs)"
   ]
  },
  {
   "cell_type": "code",
   "execution_count": 126,
   "metadata": {},
   "outputs": [
    {
     "data": {
      "text/plain": [
       "0.6714266722897511"
      ]
     },
     "execution_count": 126,
     "metadata": {},
     "output_type": "execute_result"
    }
   ],
   "source": [
    "f['emit_scan_OTR2_2020-06-11T00:54:57']['beam_data']['emittance']['RMS floor']['emit_x'][()]"
   ]
  },
  {
   "cell_type": "code",
   "execution_count": 124,
   "metadata": {},
   "outputs": [
    {
     "data": {
      "text/plain": [
       "0.4748296525242685"
      ]
     },
     "execution_count": 124,
     "metadata": {},
     "output_type": "execute_result"
    }
   ],
   "source": [
    "f['emit_scan_OTR2_2020-06-11T00:54:57']['beam_data']['emittance']['Gaussian']['emit_x'][()]"
   ]
  },
  {
   "cell_type": "code",
   "execution_count": null,
   "metadata": {},
   "outputs": [],
   "source": [
    "f['emit_scan_OTR2_2020-06-11T00:54:57']['beam_data']['emittance']['Gaussian']['emit_x'][()]"
   ]
  },
  {
   "cell_type": "code",
   "execution_count": 125,
   "metadata": {},
   "outputs": [
    {
     "data": {
      "text/plain": [
       "0.5041883808052601"
      ]
     },
     "execution_count": 125,
     "metadata": {},
     "output_type": "execute_result"
    }
   ],
   "source": [
    "f['emit_scan_OTR2_2020-06-11T00:54:57']['beam_data']['emittance']['Super']['emit_x'][()]"
   ]
  },
  {
   "cell_type": "code",
   "execution_count": 130,
   "metadata": {},
   "outputs": [
    {
     "data": {
      "text/plain": [
       "0.5449554626698553"
      ]
     },
     "execution_count": 130,
     "metadata": {},
     "output_type": "execute_result"
    }
   ],
   "source": [
    "f['emit_scan_OTR2_2020-06-11T00:54:57']['beam_data']['emittance']['RMS cut peak']['emit_x'][()]"
   ]
  },
  {
   "cell_type": "code",
   "execution_count": 136,
   "metadata": {},
   "outputs": [
    {
     "data": {
      "text/plain": [
       "0.4813820398422699"
      ]
     },
     "execution_count": 136,
     "metadata": {},
     "output_type": "execute_result"
    }
   ],
   "source": [
    "f['emit_scan_OTR2_2020-06-11T00:54:57']['beam_data']['emittance']['RMS cut area']['emit_x'][()]"
   ]
  },
  {
   "cell_type": "code",
   "execution_count": 135,
   "metadata": {},
   "outputs": [
    {
     "data": {
      "text/plain": [
       "['Asymmetric',\n",
       " 'Gaussian',\n",
       " 'RMS',\n",
       " 'RMS cut area',\n",
       " 'RMS cut peak',\n",
       " 'RMS floor',\n",
       " 'Super']"
      ]
     },
     "execution_count": 135,
     "metadata": {},
     "output_type": "execute_result"
    }
   ],
   "source": [
    "list(f['emit_scan_OTR2_2020-06-11T00:54:57']['beam_data']['emittance'])"
   ]
  },
  {
   "cell_type": "code",
   "execution_count": null,
   "metadata": {},
   "outputs": [],
   "source": [
    "emit_group = f['emit_scan_OTR2_2020-06-11T00:54:57']['beam_data']['emittance']['Gaussian']\n",
    "emit_x = emit_group['emit_x'][()]\n",
    "emit_y = emit_group['emit_y'][()]\n",
    "\n",
    "in_data = []\n",
    "ydata = []\n",
    "\n",
    "# Top group name\n",
    "for key in f.keys(): \n",
    "    beam_key   = key+'/beam_data'\n",
    "    beam_group = f[beam_key]\n",
    "    nsteps     = len(beam_group.keys())\n",
    "    if nsteps > 0:\n",
    "        print(key)\n",
    "        print('steps',nsteps)\n",
    "        nsamples = len(beam_group['step0'])\n",
    "        #print('samples',samples)\n",
    "        for step in beam_group:\n",
    "            #print(step)\n",
    "            for sample in beam_group[step]:\n",
    "                try:\n",
    "                    xdata.append(beam_group[step][sample]['Gaussian']['stats_XRMS'][()])\n",
    "                    ydata.append(beam_group[step][sample]['Gaussian']['stats_YRMS'][()])\n",
    "                except:\n",
    "                    pass"
   ]
  },
  {
   "cell_type": "code",
   "execution_count": 78,
   "metadata": {},
   "outputs": [
    {
     "data": {
      "text/plain": [
       "<HDF5 group \"/emit_scan_OTR2_2020-06-11T00:54:57/beam_data/beam_sizes\" (5 members)>"
      ]
     },
     "execution_count": 78,
     "metadata": {},
     "output_type": "execute_result"
    }
   ],
   "source": [
    " f['emit_scan_OTR2_2020-06-11T00:54:57']['beam_data']['beam_sizes']"
   ]
  },
  {
   "cell_type": "code",
   "execution_count": 75,
   "metadata": {},
   "outputs": [
    {
     "name": "stdout",
     "output_type": "stream",
     "text": [
      "um\n"
     ]
    },
    {
     "data": {
      "image/png": "[encoded data removed]",
      "text/plain": [
       "<Figure size 450x300 with 1 Axes>"
      ]
     },
     "metadata": {
      "needs_background": "light"
     },
     "output_type": "display_data"
    }
   ],
   "source": [
    "beam_size_group = f['emit_scan_OTR2_2020-06-11T00:54:57']['beam_data']['beam_sizes']\n",
    "raw_data = beam_size_group['step0']['raw_data']\n",
    "xaxis = raw_data['XCOORD']\n",
    "xprof = raw_data['XPROF']\n",
    "\n",
    "# Unit for axis in um and intensity is arb./based on pixels\n",
    "print(raw_data.attrs['unit'])\n",
    "plt.plot(xaxis, xprof)\n",
    "plt.show()"
   ]
  },
  {
   "cell_type": "code",
   "execution_count": 76,
   "metadata": {},
   "outputs": [
    {
     "name": "stdout",
     "output_type": "stream",
     "text": [
      "73.79815942159674 um\n"
     ]
    }
   ],
   "source": [
    "stat_data = beam_size_group['step0']['Gaussian']['stats_XRMS'][()]\n",
    "stat_unit = beam_size_group['step0']['Gaussian'].attrs['unit']\n",
    "print(stat_data, stat_unit)"
   ]
  },
  {
   "cell_type": "code",
   "execution_count": 36,
   "metadata": {},
   "outputs": [
    {
     "name": "stdout",
     "output_type": "stream",
     "text": [
      "0.4748296525242685 0.47040427234022586\n"
     ]
    }
   ],
   "source": [
    "# NOTE: Not all files contain both emit_x and emit_y data\n",
    "# Files w/o one dimension are padded w/ zeros\n",
    "emit_group = f['emit_scan_OTR2_2020-06-11T00:54:57']['beam_data']['emittance']['Gaussian']\n",
    "emit_x = emit_group['emit_x'][()]\n",
    "emit_y = emit_group['emit_y'][()]\n",
    "print(emit_x, emit_y)"
   ]
  },
  {
   "cell_type": "code",
   "execution_count": 79,
   "metadata": {},
   "outputs": [],
   "source": [
    "emit_group = f['emit_scan_OTR2_2020-06-11T00:54:57']['beam_data']['emittance']['Gaussian']\n",
    "emit_x = emit_group['emit_x']"
   ]
  },
  {
   "cell_type": "code",
   "execution_count": 93,
   "metadata": {},
   "outputs": [
    {
     "data": {
      "text/plain": [
       "['ACCL:IN20:300:L0A_PDES',\n",
       " 'ACCL:IN20:300:L0A_PDES.EGU',\n",
       " 'ACCL:IN20:400:L0B_PDES',\n",
       " 'ACCL:IN20:400:L0B_PDES.EGU',\n",
       " 'IRIS:LR20:130:MOTR_ANGLE',\n",
       " 'IRIS:LR20:130:MOTR_ANGLE.EGU',\n",
       " 'QUAD:IN20:121:BDES',\n",
       " 'QUAD:IN20:121:BDES.EGU',\n",
       " 'QUAD:IN20:122:BDES',\n",
       " 'QUAD:IN20:122:BDES.EGU',\n",
       " 'SOLN:IN20:121:BDES',\n",
       " 'SOLN:IN20:121:BDES.EGU']"
      ]
     },
     "execution_count": 93,
     "metadata": {},
     "output_type": "execute_result"
    }
   ],
   "source": [
    "list(f['emit_scan_OTR2_2020-06-11T00:54:57']['pvdata'].attrs)"
   ]
  },
  {
   "cell_type": "code",
   "execution_count": 96,
   "metadata": {},
   "outputs": [
    {
     "data": {
      "text/plain": [
       "'0.4635'"
      ]
     },
     "execution_count": 96,
     "metadata": {},
     "output_type": "execute_result"
    }
   ],
   "source": [
    "f['emit_scan_OTR2_2020-06-11T00:54:57']['pvdata'].attrs['SOLN:IN20:121:BDES']"
   ]
  },
  {
   "cell_type": "code",
   "execution_count": null,
   "metadata": {},
   "outputs": [],
   "source": []
  }
 ],
 "metadata": {
  "kernelspec": {
   "display_name": "Python 3",
   "language": "python",
   "name": "python3"
  },
  "language_info": {
   "codemirror_mode": {
    "name": "ipython",
    "version": 3
   },
   "file_extension": ".py",
   "mimetype": "text/x-python",
   "name": "python",
   "nbconvert_exporter": "python",
   "pygments_lexer": "ipython3",
   "version": "3.6.9"
  }
 },
 "nbformat": 4,
 "nbformat_minor": 4
}
