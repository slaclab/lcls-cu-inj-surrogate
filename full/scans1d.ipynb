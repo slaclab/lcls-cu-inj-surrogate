{
 "cells": [
  {
   "cell_type": "markdown",
   "metadata": {},
   "source": [
    "# Scans 1D"
   ]
  },
  {
   "cell_type": "code",
   "execution_count": 1,
   "metadata": {},
   "outputs": [],
   "source": [
    "from xopt import Xopt\n",
    "from impact import Impact\n",
    "\n",
    "from concurrent.futures import ProcessPoolExecutor\n",
    "import numpy as np\n",
    "import json\n",
    "\n",
    "%config InlineBackend.figure_format = 'retina'\n",
    "import matplotlib.pyplot as plt"
   ]
  },
  {
   "cell_type": "code",
   "execution_count": 2,
   "metadata": {},
   "outputs": [
    {
     "name": "stdout",
     "output_type": "stream",
     "text": [
      "Loading as YAML file: v2_cnsga/xopt.yaml\n"
     ]
    },
    {
     "data": {
      "text/plain": [
       "\n",
       "            Xopt \n",
       "________________________________           \n",
       "Version: 0.4.1\n",
       "Configured: True\n",
       "Config as YAML:\n",
       "xopt: {output_path: /global/cfs/cdirs/m669/cmayes/impact_datasets/cu_inj_surrogate/full/v2_cnsga,\n",
       "  verbose: true, algorithm: cnsga}\n",
       "algorithm:\n",
       "  name: cnsga\n",
       "  function: xopt.cnsga.cnsga\n",
       "  options: {max_generations: 1000, population_size: 1240, crossover_probability: 0.9,\n",
       "    mutation_probability: 1.0, selection: auto, verbose: true, population: /global/cfs/cdirs/m669/cmayes/impact_datasets/cu_inj_surrogate/full/v2_cnsga/pop_31.json,\n",
       "    seed: null}\n",
       "simulation:\n",
       "  name: impact_with_distgen\n",
       "  evaluate: impact.evaluate_impact_with_distgen\n",
       "  options: {verbose: false, workdir: /global/cscratch1/sd/cmayes/, archive_path: /global/cfs/cdirs/m669/cmayes/impact_datasets/cu_inj_surrogate/full/v2_cnsga/archive,\n",
       "    distgen_input_file: /global/homes/c/cmayes/GitHub/lcls-lattice/distgen/models/cu_inj/distgen.yaml,\n",
       "    impact_config: /global/homes/c/cmayes/GitHub/lcls-lattice/impact/models/cu_inj/ImpactT.yaml,\n",
       "    merit_f: null}\n",
       "vocs:\n",
       "  name: LCLS cu_inj Impact-T and Disgten full optimization v2\n",
       "  description: First dataset for lcls_cu_inj\n",
       "  simulation: impact_with_distgen\n",
       "  templates: {impact_config: /global/homes/c/cmayes/GitHub/lcls-lattice/impact/models/cu_inj/ImpactT.yaml,\n",
       "    distgen_input_file: /global/homes/c/cmayes/GitHub/lcls-lattice/distgen/models/cu_inj/distgen.yaml}\n",
       "  variables:\n",
       "    distgen:r_dist:sigma_xy:value: [0.2, 0.5]\n",
       "    distgen:t_dist:length:value: [3.0, 12.0]\n",
       "    SOL1:solenoid_field_scale: [0.15, 0.3]\n",
       "    CQ01:b1_gradient: [-0.01, 0.01]\n",
       "    SQ01:b1_gradient: [-0.01, 0.01]\n",
       "    L0A_phase:dtheta0_deg: [-25, 10]\n",
       "    L0B_phase:dtheta0_deg: [-25, 10]\n",
       "    QA01:b1_gradient: [1, 4]\n",
       "    QA02:b1_gradient: [-4, -1]\n",
       "    QE01:b1_gradient: [1, 7]\n",
       "    QE02:b1_gradient: [-7, 1]\n",
       "    QE03:b1_gradient: [-7, 1]\n",
       "    QE04:b1_gradient: [1, 7]\n",
       "  linked_variables: null\n",
       "  constants: {'distgen:n_particle': 10000, 'distgen:total_charge:value': 250, 'L0A_scale:voltage': 58000000.0,\n",
       "    'L0B_scale:voltage': 70000000.0, stop: 16.5, timeout: 100000, 'header:Nx': 32,\n",
       "    'header:Ny': 32, 'header:Nz': 32}\n",
       "  objectives: {end_norm_emit_xy: MINIMIZE, end_sigma_z: MINIMIZE}\n",
       "  constraints:\n",
       "    end_sigma_z: [LESS_THAN, 0.0015]\n",
       "    end_norm_emit_xy: [LESS_THAN, 1.0e-06]\n",
       "    end_mean_kinetic_energy: [GREATER_THAN, 120000000.0]\n",
       "    end_n_particle_loss: [LESS_THAN, 1]"
      ]
     },
     "execution_count": 2,
     "metadata": {},
     "output_type": "execute_result"
    }
   ],
   "source": [
    "X = Xopt('v2_cnsga/xopt.yaml')\n",
    "X"
   ]
  },
  {
   "cell_type": "code",
   "execution_count": 3,
   "metadata": {},
   "outputs": [],
   "source": [
    "# Optimial point\n",
    "d0 = {'CQ01:b1_gradient': 0.0007139176759844664,\n",
    " 'L0A_phase:dtheta0_deg': -9.535973491788312,\n",
    " 'L0B_phase:dtheta0_deg': 9.855662220643689,\n",
    " 'QA01:b1_gradient': 3.37066681319904,\n",
    " 'QA02:b1_gradient': -3.0209376240369252,\n",
    " 'QE01:b1_gradient': 3.9091474711309946,\n",
    " 'QE02:b1_gradient': 0.7710432887365424,\n",
    " 'QE03:b1_gradient': -5.163859901374401,\n",
    " 'QE04:b1_gradient': 2.878511630993775,\n",
    " 'SOL1:solenoid_field_scale': 0.2446084900749248,\n",
    " 'SQ01:b1_gradient': 0.0003272852109147791,\n",
    " 'distgen:r_dist:sigma_xy:value': 0.42386782505866677,\n",
    " 'distgen:t_dist:length:value': 3.0608348355057755,\n",
    " 'distgen:n_particle': 10000,\n",
    " 'distgen:total_charge:value': 250,\n",
    " 'L0A_scale:voltage': 58000000.0,\n",
    " 'L0B_scale:voltage': 70000000.0,\n",
    " 'stop': 16.5,\n",
    " 'timeout': 100000,\n",
    " 'header:Nx': 32,\n",
    " 'header:Ny': 32,\n",
    " 'header:Nz': 32,\n",
    " 'error': False,\n",
    " 'end_t': 5.5078978e-08,\n",
    " 'end_mean_z': 16.499533,\n",
    " 'end_mean_x': -1.3810335e-07,\n",
    " 'end_sigma_x': 0.00035606703,\n",
    " 'end_norm_emit_x': 5.5475038e-07,\n",
    " 'end_loadbalance_min_n_particle': 10000.0,\n",
    " 'end_loadbalance_max_n_particle': 10000.0,\n",
    " 'end_n_particle': 10000.0,\n",
    " 'end_sigma_z': 0.00046034012,\n",
    " 'end_norm_emit_z': 3.1195682e-05,\n",
    " 'end_max_amplitude_x': 0.0016924282,\n",
    " 'end_max_amplitude_y': 0.0050664815,\n",
    " 'end_max_amplitude_z': 0.0010691856,\n",
    " 'end_mean_gamma': 260.12623,\n",
    " 'end_mean_beta': 0.99999261,\n",
    " 'end_max_r': 0.0050664972,\n",
    " 'end_sigma_gamma': 0.56908441,\n",
    " 'end_moment3_x': 5.2217966e-05,\n",
    " 'end_moment3_y': 0.00025198162,\n",
    " 'end_moment3_z': 0.0005139494,\n",
    " 'end_mean_y': 6.0054821e-08,\n",
    " 'end_sigma_y': 0.00088276724,\n",
    " 'end_norm_emit_y': 5.271996e-07,\n",
    " 'end_moment4_x': 0.00044963737,\n",
    " 'end_moment4_y': 0.0011662915,\n",
    " 'end_moment4_z': 0.00055573382,\n",
    " 'end_mean_px': -5.6991028154907,\n",
    " 'end_sigma_px': 14568.186595308498,\n",
    " 'end_cov_x__px': 5.1794991541716495,\n",
    " 'end_mean_pz': 132923244.16948499,\n",
    " 'end_sigma_pz': 290803.65661701193,\n",
    " 'end_cov_z__pz': 132.91607996420598,\n",
    " 'end_max_amplitude_px': 74432.679375824,\n",
    " 'end_max_amplitude_py': 96916.65872577149,\n",
    " 'end_max_amplitude_pz': 133383557.13363448,\n",
    " 'end_mean_kinetic_energy': 132414800.00000001,\n",
    " 'end_moment3_px': 2241.5922976789648,\n",
    " 'end_moment3_py': 4791.5590224105445,\n",
    " 'end_moment3_pz': 220736.73254043947,\n",
    " 'end_mean_py': 1.33017819855151,\n",
    " 'end_sigma_py': 16670.956472539598,\n",
    " 'end_cov_y__py': 14.714108477468399,\n",
    " 'end_moment4_px': 18443.7314038439,\n",
    " 'end_moment4_py': 22069.924054747797,\n",
    " 'end_moment4_pz': 356729.52185262693,\n",
    " 'run_time': 9537.746889352798,\n",
    " 'end_n_particle_loss': 0,\n",
    " 'end_total_charge': 2.4999999999999996e-10,\n",
    " 'end_higher_order_energy_spread': 6235.664578121005,\n",
    " 'end_norm_emit_xy': 5.407995732578272e-07,\n",
    " 'end_norm_emit_4d': 2.723212929162621e-13,\n",
    " 'fingerprint': 'ec6cc568495b874564113a03c2ba6832',\n",
    " 'archive': '/global/cfs/cdirs/m669/cmayes/impact_datasets/cu_inj_surrogate/full/v2_cnsga/archive/ec6cc568495b874564113a03c2ba6832.h5',\n",
    " 'feasible': True}"
   ]
  },
  {
   "cell_type": "code",
   "execution_count": 4,
   "metadata": {},
   "outputs": [
    {
     "name": "stdout",
     "output_type": "stream",
     "text": [
      "CPU times: user 4 µs, sys: 1e+03 ns, total: 5 µs\n",
      "Wall time: 8.82 µs\n"
     ]
    }
   ],
   "source": [
    "%%time \n",
    "in0 = {'CQ01:b1_gradient': 0.0007139176759844664,\n",
    " 'L0A_phase:dtheta0_deg': -9.535973491788312,\n",
    " 'L0B_phase:dtheta0_deg': 9.855662220643689,\n",
    " 'QA01:b1_gradient': 3.37066681319904,\n",
    " 'QA02:b1_gradient': -3.0209376240369252,\n",
    " 'QE01:b1_gradient': 3.9091474711309946,\n",
    " 'QE02:b1_gradient': 0.7710432887365424,\n",
    " 'QE03:b1_gradient': -5.163859901374401,\n",
    " 'QE04:b1_gradient': 2.878511630993775,\n",
    " 'SOL1:solenoid_field_scale': 0.2446084900749248,\n",
    " 'SQ01:b1_gradient': 0.0003272852109147791,\n",
    " 'distgen:r_dist:sigma_xy:value': 0.42386782505866677,\n",
    " 'distgen:t_dist:length:value': 3.0608348355057755,\n",
    " 'distgen:n_particle': 10000,\n",
    " 'distgen:total_charge:value': 250,\n",
    " 'L0A_scale:voltage': 58000000.0,\n",
    " 'L0B_scale:voltage': 70000000.0,\n",
    " 'stop': 16.5,\n",
    " 'timeout': 100000,\n",
    " 'header:Nx': 32,\n",
    " 'header:Ny': 32,\n",
    " 'header:Nz': 32,\n",
    " 'change_timestep_1:dt':2.5e-11/10 # Hack\n",
    "      }\n",
    "#res0 = X.evaluate(in0)"
   ]
  },
  {
   "cell_type": "markdown",
   "metadata": {},
   "source": [
    "# Run1"
   ]
  },
  {
   "cell_type": "code",
   "execution_count": 5,
   "metadata": {},
   "outputs": [
    {
     "data": {
      "text/plain": [
       "0.2446084900749248"
      ]
     },
     "execution_count": 5,
     "metadata": {},
     "output_type": "execute_result"
    }
   ],
   "source": [
    "in0['SOL1:solenoid_field_scale']"
   ]
  },
  {
   "cell_type": "code",
   "execution_count": 6,
   "metadata": {},
   "outputs": [
    {
     "name": "stdout",
     "output_type": "stream",
     "text": [
      "CPU times: user 4 µs, sys: 0 ns, total: 4 µs\n",
      "Wall time: 7.39 µs\n"
     ]
    }
   ],
   "source": [
    "%%time\n",
    "def run1(x, param='SOL1:solenoid_field_scale'):\n",
    "    inputs = in0.copy()\n",
    "    inputs[param] = x\n",
    "    res = X.evaluate(inputs)\n",
    "    return res\n",
    "#run1(0.2446084900749248)"
   ]
  },
  {
   "cell_type": "code",
   "execution_count": null,
   "metadata": {},
   "outputs": [],
   "source": [
    "RESULTS = {}"
   ]
  },
  {
   "cell_type": "markdown",
   "metadata": {},
   "source": [
    "# Scan1"
   ]
  },
  {
   "cell_type": "code",
   "execution_count": 7,
   "metadata": {},
   "outputs": [],
   "source": [
    "def scan1(param, xlist, func):\n",
    "    d = {}\n",
    "    d['param'] = param\n",
    "    d['x'] = xlist.tolist()\n",
    "    d['reference'] = in0.copy()\n",
    "    \n",
    "    def in1(x):\n",
    "        d2 = in0.copy()\n",
    "        d2[param] = x\n",
    "        return d2\n",
    "        \n",
    "    with ProcessPoolExecutor() as executor:\n",
    "        results = list(executor.map(func, xlist))\n",
    "    d['inputs'] = [in1(x) for x in xlist]\n",
    "    d['outputs'] = results\n",
    "    \n",
    "    return d\n"
   ]
  },
  {
   "cell_type": "markdown",
   "metadata": {},
   "source": [
    "# SOL1:solenoid_field_scale"
   ]
  },
  {
   "cell_type": "code",
   "execution_count": 8,
   "metadata": {},
   "outputs": [
    {
     "name": "stdout",
     "output_type": "stream",
     "text": [
      "CPU times: user 181 ms, sys: 589 ms, total: 770 ms\n",
      "Wall time: 52min 52s\n"
     ]
    }
   ],
   "source": [
    "%%time\n",
    "#sollist = np.linspace(0.22, 0.26, 32)\n",
    "def run(x):\n",
    "    return run1(x, 'SOL1:solenoid_field_scale')\n",
    "results = scan1('SOL1:solenoid_field_scale', np.linspace(0.22, 0.26, 32), run)"
   ]
  },
  {
   "cell_type": "code",
   "execution_count": 9,
   "metadata": {},
   "outputs": [],
   "source": [
    "json.dump(results, open('scan_SOL1:solenoid_field_scale-fine.json', 'w'))"
   ]
  },
  {
   "cell_type": "code",
   "execution_count": 11,
   "metadata": {},
   "outputs": [
    {
     "data": {
      "text/plain": [
       "Text(0, 0.5, 'end_sigma_x')"
      ]
     },
     "execution_count": 11,
     "metadata": {},
     "output_type": "execute_result"
    },
    {
     "data": {
      "image/png": "[encoded data removed]",
      "text/plain": [
       "<Figure size 432x288 with 1 Axes>"
      ]
     },
     "metadata": {
      "image/png": {
       "height": 262,
       "width": 411
      },
      "needs_background": "light"
     },
     "output_type": "display_data"
    }
   ],
   "source": [
    "k1 = 'SOL1:solenoid_field_scale'\n",
    "k2 = 'end_sigma_x'\n",
    "\n",
    "x = results['x']\n",
    "\n",
    "y = [r[k2] for r in results['outputs']]\n",
    "#y2 = [r[k2] for r in results2]\n",
    "plt.plot(x, y)\n",
    "#plt.plot(sollist, y2, label='finer timestep')\n",
    "plt.xlabel(k1)\n",
    "plt.ylabel(k2)\n",
    "#plt.legend()"
   ]
  },
  {
   "cell_type": "markdown",
   "metadata": {},
   "source": [
    "# CQ01:b1_gradient"
   ]
  },
  {
   "cell_type": "code",
   "execution_count": 12,
   "metadata": {},
   "outputs": [
    {
     "name": "stdout",
     "output_type": "stream",
     "text": [
      "CPU times: user 138 ms, sys: 654 ms, total: 791 ms\n",
      "Wall time: 51min 15s\n"
     ]
    }
   ],
   "source": [
    "%%time\n",
    "def run(x):\n",
    "    return run1(x, 'CQ01:b1_gradient')\n",
    "results = scan1('CQ01:b1_gradient', np.linspace(-.01, .01, 32), run)\n",
    "\n",
    "json.dump(results, open('scan_CQ01:b1_gradient-fine.json', 'w'))"
   ]
  },
  {
   "cell_type": "code",
   "execution_count": null,
   "metadata": {},
   "outputs": [],
   "source": [
    "k1 = 'CQ01:b1_gradient'\n",
    "k2 = 'end_norm_emit'\n",
    "ky1 = 'end_norm_emit_x'\n",
    "ky2 = 'end_norm_emit_y'\n",
    "\n",
    "x = results['x']\n",
    "\n",
    "#y2 = [r[k2] for r in results2]\n",
    "plt.plot(x,  [r[ky1] for r in results['outputs']], label=ky1)\n",
    "plt.plot(x,  [r[ky2] for r in results['outputs']], label=ky2)\n",
    "#plt.plot(sollist, y2, label='finer timestep')\n",
    "plt.xlabel(k1)\n",
    "plt.ylabel(k2)\n",
    "plt.legend()"
   ]
  },
  {
   "cell_type": "markdown",
   "metadata": {},
   "source": [
    "# SQ01:b1_gradient"
   ]
  },
  {
   "cell_type": "code",
   "execution_count": 13,
   "metadata": {},
   "outputs": [
    {
     "name": "stdout",
     "output_type": "stream",
     "text": [
      "CPU times: user 121 ms, sys: 422 ms, total: 542 ms\n",
      "Wall time: 51min 4s\n"
     ]
    }
   ],
   "source": [
    "%%time\n",
    "def run(x):\n",
    "    return run1(x, 'SQ01:b1_gradient')\n",
    "results = scan1('SQ01:b1_gradient', np.linspace(-.01, .01, 32), run)\n",
    "\n",
    "json.dump(results, open('scan_SQ01:b1_gradient-fine.json', 'w'))"
   ]
  },
  {
   "cell_type": "code",
   "execution_count": null,
   "metadata": {},
   "outputs": [],
   "source": [
    "k1 = 'SQ01:b1_gradient'\n",
    "k2 = 'end_norm_emit'\n",
    "ky1 = 'end_norm_emit_x'\n",
    "ky2 = 'end_norm_emit_y'\n",
    "\n",
    "x = results['x']\n",
    "\n",
    "#y2 = [r[k2] for r in results2]\n",
    "plt.plot(x,  [r[ky1] for r in results['outputs']], label=ky1)\n",
    "plt.plot(x,  [r[ky2] for r in results['outputs']], label=ky2)\n",
    "#plt.plot(sollist, y2, label='finer timestep')\n",
    "plt.xlabel(k1)\n",
    "plt.ylabel(k2)\n",
    "plt.legend()"
   ]
  },
  {
   "cell_type": "code",
   "execution_count": null,
   "metadata": {},
   "outputs": [],
   "source": []
  }
 ],
 "metadata": {
  "kernelspec": {
   "display_name": "Devel",
   "language": "python",
   "name": "devel"
  },
  "language_info": {
   "codemirror_mode": {
    "name": "ipython",
    "version": 3
   },
   "file_extension": ".py",
   "mimetype": "text/x-python",
   "name": "python",
   "nbconvert_exporter": "python",
   "pygments_lexer": "ipython3",
   "version": "3.8.5"
  }
 },
 "nbformat": 4,
 "nbformat_minor": 4
}
